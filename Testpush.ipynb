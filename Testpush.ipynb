{
 "cells": [
  {
   "cell_type": "markdown",
   "id": "35296bdf-5687-4e67-b6e9-8a12cc181313",
   "metadata": {},
   "source": [
    "# Personal Deatails"
   ]
  },
  {
   "cell_type": "code",
   "execution_count": 6,
   "id": "d3b5af3a-4ced-45a7-8019-cc916b66eafd",
   "metadata": {},
   "outputs": [],
   "source": [
    "Eric = {\n",
    "    \"fullname\": \"Eric Mulinge\",\n",
    "    \"Age\" : 29,\n",
    "    \"country\" : \"Kenya\",\n",
    "    \"Material status\" : \"Complicated\"\n",
    "}"
   ]
  },
  {
   "cell_type": "code",
   "execution_count": 8,
   "id": "409c8f67-291e-4d8f-989b-7f7219b5f8d0",
   "metadata": {},
   "outputs": [
    {
     "data": {
      "text/plain": [
       "'Eric Mulinge'"
      ]
     },
     "execution_count": 8,
     "metadata": {},
     "output_type": "execute_result"
    }
   ],
   "source": [
    "Eric[\"fullname\"]"
   ]
  },
  {
   "cell_type": "code",
   "execution_count": null,
   "id": "9f4f293d-883b-42d9-b7d9-07b96e90a957",
   "metadata": {},
   "outputs": [],
   "source": []
  }
 ],
 "metadata": {
  "kernelspec": {
   "display_name": "Python 3 (ipykernel)",
   "language": "python",
   "name": "python3"
  },
  "language_info": {
   "codemirror_mode": {
    "name": "ipython",
    "version": 3
   },
   "file_extension": ".py",
   "mimetype": "text/x-python",
   "name": "python",
   "nbconvert_exporter": "python",
   "pygments_lexer": "ipython3",
   "version": "3.12.7"
  }
 },
 "nbformat": 4,
 "nbformat_minor": 5
}
