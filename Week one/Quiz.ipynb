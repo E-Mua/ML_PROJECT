{
 "cells": [
  {
   "cell_type": "markdown",
   "id": "aa566d08-ed26-4e44-a63d-08cbf2016ad3",
   "metadata": {},
   "source": [
    "# GROUP 1 QUIZ "
   ]
  },
  {
   "cell_type": "markdown",
   "id": "962f86c5-e368-4a3c-aeea-f4c4bf9e5b24",
   "metadata": {},
   "source": [
    "## Load and Inspect the Data"
   ]
  },
  {
   "cell_type": "markdown",
   "id": "e38662fe-cf98-4123-a803-131472312c9e",
   "metadata": {},
   "source": [
    "### Read the dataset into a Pandas DataFrame."
   ]
  },
  {
   "cell_type": "code",
   "execution_count": 162,
   "id": "8c91ca9e-0589-451c-93fd-822bddf6be6a",
   "metadata": {},
   "outputs": [
    {
     "name": "stdout",
     "output_type": "stream",
     "text": [
      "      Customer_ID     Name   Age  Gender      Education_Level  \\\n",
      "0            1001    Alice  43.0    Male            Secondary   \n",
      "1            1002    David  66.0    Male              Diploma   \n",
      "2            1003      Bob  61.0    Male              Diploma   \n",
      "3            1004      Ian  37.0    Male            Secondary   \n",
      "4            1005    Grace  64.0  Female                  PhD   \n",
      "...           ...      ...   ...     ...                  ...   \n",
      "1495         2496      Ian  55.0    Male               Master   \n",
      "1496         2497      Eve  75.0    Male               Master   \n",
      "1497         2498      Bob  47.0    Male            Secondary   \n",
      "1498         2499    David  38.0    Male              Primary   \n",
      "1499         2500  Charlie  76.0    Male  No formal education   \n",
      "\n",
      "      Number_of_Children     City  Purchase_Amount Purchase_Date  \\\n",
      "0                    5.0  Mombasa           629.59    2023-10-29   \n",
      "1                    5.0  Mombasa           424.31    2023-04-04   \n",
      "2                    3.0  Eldoret           220.66    2023-04-10   \n",
      "3                    0.0    Nyeri            13.95    2023-08-03   \n",
      "4                    5.0    Thika           666.85    2023-10-07   \n",
      "...                  ...      ...              ...           ...   \n",
      "1495                 1.0    Thika           436.37    2023-02-16   \n",
      "1496                 NaN  Malindi           650.64    2023-10-10   \n",
      "1497                 2.0  Garissa           145.98    2023-01-24   \n",
      "1498                 NaN   Nakuru              NaN    2023-07-19   \n",
      "1499                 3.0  Eldoret            46.88    2023-03-03   \n",
      "\n",
      "     Product_Category  Purchase_Frequency  Total_Spent  \\\n",
      "0          Automotive                   9      2981.75   \n",
      "1            Clothing                   2      1397.40   \n",
      "2           Furniture                   9      3769.70   \n",
      "3              Beauty                   2      2973.28   \n",
      "4         Electronics                   1       214.64   \n",
      "...               ...                 ...          ...   \n",
      "1495           Beauty                   3      4652.81   \n",
      "1496      Electronics                   9       891.92   \n",
      "1497      Electronics                   5      2048.69   \n",
      "1498       Automotive                   6      2359.37   \n",
      "1499             Toys                   4      2569.68   \n",
      "\n",
      "     Preferred_Payment_Method  \n",
      "0               Bank Transfer  \n",
      "1                 Credit Card  \n",
      "2                Mobile Money  \n",
      "3                Mobile Money  \n",
      "4                Mobile Money  \n",
      "...                       ...  \n",
      "1495            Bank Transfer  \n",
      "1496                     Cash  \n",
      "1497            Bank Transfer  \n",
      "1498                     Cash  \n",
      "1499             Mobile Money  \n",
      "\n",
      "[1500 rows x 13 columns]\n"
     ]
    }
   ],
   "source": [
    "#import pandas \n",
    "import pandas as pd\n",
    "\n",
    "#load the data\n",
    "path=r\"C:\\Users\\USER\\OneDrive\\Desktop\\advanced data analytics\\Groups 1 and 3\\Groups 1 and 3\\customer_transactions.xlsx\"\n",
    "df=pd.read_excel(path)\n",
    "print(df)\n",
    "\n"
   ]
  },
  {
   "cell_type": "markdown",
   "id": "6c32b275-6bda-4660-a9eb-1c7a37c01179",
   "metadata": {},
   "source": [
    "### Display basic statistics and information about the dataset"
   ]
  },
  {
   "cell_type": "code",
   "execution_count": 164,
   "id": "d7710016-92ea-4a3e-81e8-34e604262282",
   "metadata": {},
   "outputs": [
    {
     "data": {
      "text/html": [
       "<div>\n",
       "<style scoped>\n",
       "    .dataframe tbody tr th:only-of-type {\n",
       "        vertical-align: middle;\n",
       "    }\n",
       "\n",
       "    .dataframe tbody tr th {\n",
       "        vertical-align: top;\n",
       "    }\n",
       "\n",
       "    .dataframe thead th {\n",
       "        text-align: right;\n",
       "    }\n",
       "</style>\n",
       "<table border=\"1\" class=\"dataframe\">\n",
       "  <thead>\n",
       "    <tr style=\"text-align: right;\">\n",
       "      <th></th>\n",
       "      <th>Customer_ID</th>\n",
       "      <th>Age</th>\n",
       "      <th>Number_of_Children</th>\n",
       "      <th>Purchase_Amount</th>\n",
       "      <th>Purchase_Date</th>\n",
       "      <th>Purchase_Frequency</th>\n",
       "      <th>Total_Spent</th>\n",
       "    </tr>\n",
       "  </thead>\n",
       "  <tbody>\n",
       "    <tr>\n",
       "      <th>count</th>\n",
       "      <td>1500.000000</td>\n",
       "      <td>1466.000000</td>\n",
       "      <td>1429.00000</td>\n",
       "      <td>1471.000000</td>\n",
       "      <td>1419</td>\n",
       "      <td>1500.000000</td>\n",
       "      <td>1500.000000</td>\n",
       "    </tr>\n",
       "    <tr>\n",
       "      <th>mean</th>\n",
       "      <td>1750.500000</td>\n",
       "      <td>49.630286</td>\n",
       "      <td>2.96571</td>\n",
       "      <td>463.976540</td>\n",
       "      <td>2023-07-17 19:55:26.004228096</td>\n",
       "      <td>5.309333</td>\n",
       "      <td>2521.933413</td>\n",
       "    </tr>\n",
       "    <tr>\n",
       "      <th>min</th>\n",
       "      <td>1001.000000</td>\n",
       "      <td>18.000000</td>\n",
       "      <td>0.00000</td>\n",
       "      <td>-49.780000</td>\n",
       "      <td>2023-01-01 00:00:00</td>\n",
       "      <td>1.000000</td>\n",
       "      <td>100.420000</td>\n",
       "    </tr>\n",
       "    <tr>\n",
       "      <th>25%</th>\n",
       "      <td>1375.750000</td>\n",
       "      <td>34.000000</td>\n",
       "      <td>1.00000</td>\n",
       "      <td>206.645000</td>\n",
       "      <td>2023-04-05 12:00:00</td>\n",
       "      <td>3.000000</td>\n",
       "      <td>1280.882500</td>\n",
       "    </tr>\n",
       "    <tr>\n",
       "      <th>50%</th>\n",
       "      <td>1750.500000</td>\n",
       "      <td>50.500000</td>\n",
       "      <td>3.00000</td>\n",
       "      <td>453.710000</td>\n",
       "      <td>2023-07-21 00:00:00</td>\n",
       "      <td>5.000000</td>\n",
       "      <td>2515.110000</td>\n",
       "    </tr>\n",
       "    <tr>\n",
       "      <th>75%</th>\n",
       "      <td>2125.250000</td>\n",
       "      <td>65.000000</td>\n",
       "      <td>5.00000</td>\n",
       "      <td>724.490000</td>\n",
       "      <td>2023-10-24 12:00:00</td>\n",
       "      <td>8.000000</td>\n",
       "      <td>3767.222500</td>\n",
       "    </tr>\n",
       "    <tr>\n",
       "      <th>max</th>\n",
       "      <td>2500.000000</td>\n",
       "      <td>80.000000</td>\n",
       "      <td>6.00000</td>\n",
       "      <td>999.420000</td>\n",
       "      <td>2024-01-31 00:00:00</td>\n",
       "      <td>10.000000</td>\n",
       "      <td>4996.760000</td>\n",
       "    </tr>\n",
       "    <tr>\n",
       "      <th>std</th>\n",
       "      <td>433.157015</td>\n",
       "      <td>17.829217</td>\n",
       "      <td>2.02459</td>\n",
       "      <td>300.205729</td>\n",
       "      <td>NaN</td>\n",
       "      <td>2.899526</td>\n",
       "      <td>1424.549468</td>\n",
       "    </tr>\n",
       "  </tbody>\n",
       "</table>\n",
       "</div>"
      ],
      "text/plain": [
       "       Customer_ID          Age  Number_of_Children  Purchase_Amount  \\\n",
       "count  1500.000000  1466.000000          1429.00000      1471.000000   \n",
       "mean   1750.500000    49.630286             2.96571       463.976540   \n",
       "min    1001.000000    18.000000             0.00000       -49.780000   \n",
       "25%    1375.750000    34.000000             1.00000       206.645000   \n",
       "50%    1750.500000    50.500000             3.00000       453.710000   \n",
       "75%    2125.250000    65.000000             5.00000       724.490000   \n",
       "max    2500.000000    80.000000             6.00000       999.420000   \n",
       "std     433.157015    17.829217             2.02459       300.205729   \n",
       "\n",
       "                       Purchase_Date  Purchase_Frequency  Total_Spent  \n",
       "count                           1419         1500.000000  1500.000000  \n",
       "mean   2023-07-17 19:55:26.004228096            5.309333  2521.933413  \n",
       "min              2023-01-01 00:00:00            1.000000   100.420000  \n",
       "25%              2023-04-05 12:00:00            3.000000  1280.882500  \n",
       "50%              2023-07-21 00:00:00            5.000000  2515.110000  \n",
       "75%              2023-10-24 12:00:00            8.000000  3767.222500  \n",
       "max              2024-01-31 00:00:00           10.000000  4996.760000  \n",
       "std                              NaN            2.899526  1424.549468  "
      ]
     },
     "execution_count": 164,
     "metadata": {},
     "output_type": "execute_result"
    }
   ],
   "source": [
    "df.describe()"
   ]
  },
  {
   "cell_type": "markdown",
   "id": "c6cc7b9b-65cc-4d3b-b6d7-3af0d02f37ac",
   "metadata": {},
   "source": [
    "### Count missing values per column."
   ]
  },
  {
   "cell_type": "code",
   "execution_count": 166,
   "id": "53b7b6a8-e012-4236-b4cc-a89370d4fc4f",
   "metadata": {},
   "outputs": [
    {
     "data": {
      "text/plain": [
       "Customer_ID                  0\n",
       "Name                        60\n",
       "Age                         34\n",
       "Gender                       0\n",
       "Education_Level              0\n",
       "Number_of_Children          71\n",
       "City                        44\n",
       "Purchase_Amount             29\n",
       "Purchase_Date               81\n",
       "Product_Category             0\n",
       "Purchase_Frequency           0\n",
       "Total_Spent                  0\n",
       "Preferred_Payment_Method     0\n",
       "dtype: int64"
      ]
     },
     "execution_count": 166,
     "metadata": {},
     "output_type": "execute_result"
    }
   ],
   "source": [
    "missing_values = df.isnull().sum()\n",
    "missing_values"
   ]
  },
  {
   "cell_type": "markdown",
   "id": "cc8c2d9c-ef9c-4433-a17e-e0ad6a1a9b93",
   "metadata": {},
   "source": [
    "### Identify data types and any potential inconsistencies"
   ]
  },
  {
   "cell_type": "code",
   "execution_count": 168,
   "id": "a9e3044e-d556-44d7-819a-e6603656e8b8",
   "metadata": {},
   "outputs": [
    {
     "data": {
      "text/plain": [
       "Customer_ID                          int64\n",
       "Name                                object\n",
       "Age                                float64\n",
       "Gender                              object\n",
       "Education_Level                     object\n",
       "Number_of_Children                 float64\n",
       "City                                object\n",
       "Purchase_Amount                    float64\n",
       "Purchase_Date               datetime64[ns]\n",
       "Product_Category                    object\n",
       "Purchase_Frequency                   int64\n",
       "Total_Spent                        float64\n",
       "Preferred_Payment_Method            object\n",
       "dtype: object"
      ]
     },
     "execution_count": 168,
     "metadata": {},
     "output_type": "execute_result"
    }
   ],
   "source": [
    "df.dtypes\n",
    "# age and number of children should be integers instead of float"
   ]
  },
  {
   "cell_type": "markdown",
   "id": "10f7d345-525a-437d-b0fd-a6f203c7ea2c",
   "metadata": {},
   "source": [
    "## Handling missing values"
   ]
  },
  {
   "cell_type": "markdown",
   "id": "61a1f76c-d62c-4f29-af26-0e07f3eedc1b",
   "metadata": {},
   "source": [
    "### Replace missing values in the Name column with \"Unknown\"."
   ]
  },
  {
   "cell_type": "code",
   "execution_count": 170,
   "id": "cf770ebd-daf2-4645-bb63-324c2486acdb",
   "metadata": {},
   "outputs": [
    {
     "name": "stdout",
     "output_type": "stream",
     "text": [
      "    Customer_ID     Name   Age  Gender      Education_Level  \\\n",
      "0          1001    Alice  43.0    Male            Secondary   \n",
      "1          1002    David  66.0    Male              Diploma   \n",
      "2          1003      Bob  61.0    Male              Diploma   \n",
      "3          1004      Ian  37.0    Male            Secondary   \n",
      "4          1005    Grace  64.0  Female                  PhD   \n",
      "5          1006  Unknown  33.0  Female             Bachelor   \n",
      "6          1007    David  23.0    Male  No formal education   \n",
      "7          1008    Alice  25.0  Female              Diploma   \n",
      "8          1009      Ian  56.0    Male             Bachelor   \n",
      "9          1010   Hannah  60.0  Female            Secondary   \n",
      "10         1011    Alice  65.0  Female               Master   \n",
      "11         1012  Charlie  18.0    Male  No formal education   \n",
      "12         1013    Frank  62.0    Male            Secondary   \n",
      "13         1014    David   NaN  Female             Bachelor   \n",
      "14         1015    Frank  40.0    Male              Diploma   \n",
      "\n",
      "    Number_of_Children      City  Purchase_Amount Purchase_Date  \\\n",
      "0                  5.0   Mombasa           629.59    2023-10-29   \n",
      "1                  5.0   Mombasa           424.31    2023-04-04   \n",
      "2                  3.0   Eldoret           220.66    2023-04-10   \n",
      "3                  0.0     Nyeri            13.95    2023-08-03   \n",
      "4                  5.0     Thika           666.85    2023-10-07   \n",
      "5                  1.0    Nakuru           -48.18    2023-09-09   \n",
      "6                  NaN   Nairobi           -36.79    2023-12-18   \n",
      "7                  5.0   Malindi           271.58    2023-04-30   \n",
      "8                  6.0   Eldoret           546.48    2023-04-29   \n",
      "9                  4.0  Machakos            22.86    2023-10-04   \n",
      "10                 4.0  Machakos           618.31    2023-02-28   \n",
      "11                 5.0   Malindi           511.97    2023-04-01   \n",
      "12                 5.0   Nairobi            51.81    2023-06-13   \n",
      "13                 1.0   Mombasa           112.40    2023-06-23   \n",
      "14                 1.0   Nairobi           135.77    2024-01-20   \n",
      "\n",
      "   Product_Category  Purchase_Frequency  Total_Spent Preferred_Payment_Method  \n",
      "0        Automotive                   9      2981.75            Bank Transfer  \n",
      "1          Clothing                   2      1397.40              Credit Card  \n",
      "2         Furniture                   9      3769.70             Mobile Money  \n",
      "3            Beauty                   2      2973.28             Mobile Money  \n",
      "4       Electronics                   1       214.64             Mobile Money  \n",
      "5         Groceries                   5      3641.65            Bank Transfer  \n",
      "6       Electronics                   6      2577.76            Bank Transfer  \n",
      "7            Sports                   1      2776.04              Credit Card  \n",
      "8         Groceries                   3      1576.63                     Cash  \n",
      "9          Clothing                   5       113.67                     Cash  \n",
      "10           Beauty                   4      3766.10              Credit Card  \n",
      "11        Groceries                   8      4969.21            Bank Transfer  \n",
      "12             Toys                   4      3792.33              Credit Card  \n",
      "13       Automotive                   7      4247.79            Bank Transfer  \n",
      "14        Furniture                   2       206.33              Credit Card  \n"
     ]
    },
    {
     "name": "stderr",
     "output_type": "stream",
     "text": [
      "C:\\Users\\USER\\AppData\\Local\\Temp\\ipykernel_2172\\3254378596.py:1: FutureWarning: A value is trying to be set on a copy of a DataFrame or Series through chained assignment using an inplace method.\n",
      "The behavior will change in pandas 3.0. This inplace method will never work because the intermediate object on which we are setting values always behaves as a copy.\n",
      "\n",
      "For example, when doing 'df[col].method(value, inplace=True)', try using 'df.method({col: value}, inplace=True)' or df[col] = df[col].method(value) instead, to perform the operation inplace on the original object.\n",
      "\n",
      "\n",
      "  df[\"Name\"].fillna(\"Unknown\", inplace=True)\n"
     ]
    },
    {
     "data": {
      "text/plain": [
       "Customer_ID                  0\n",
       "Name                         0\n",
       "Age                         34\n",
       "Gender                       0\n",
       "Education_Level              0\n",
       "Number_of_Children          71\n",
       "City                        44\n",
       "Purchase_Amount             29\n",
       "Purchase_Date               81\n",
       "Product_Category             0\n",
       "Purchase_Frequency           0\n",
       "Total_Spent                  0\n",
       "Preferred_Payment_Method     0\n",
       "dtype: int64"
      ]
     },
     "execution_count": 170,
     "metadata": {},
     "output_type": "execute_result"
    }
   ],
   "source": [
    "df[\"Name\"].fillna(\"Unknown\", inplace=True)  \n",
    "print(df.head(15))\n",
    "\n",
    "# confirming missing values have been replaced in Name column\n",
    "missing_values = df.isnull().sum()\n",
    "missing_values"
   ]
  },
  {
   "cell_type": "markdown",
   "id": "5fe490a8-2ffe-491d-b0a3-d85c199bd741",
   "metadata": {},
   "source": [
    "### Fill missing values in the Age column with the mean age of customers"
   ]
  },
  {
   "cell_type": "code",
   "execution_count": 172,
   "id": "8d7961f5-2f94-465d-a8dd-88cd3fe5de92",
   "metadata": {},
   "outputs": [
    {
     "name": "stderr",
     "output_type": "stream",
     "text": [
      "C:\\Users\\USER\\AppData\\Local\\Temp\\ipykernel_2172\\275245698.py:1: FutureWarning: A value is trying to be set on a copy of a DataFrame or Series through chained assignment using an inplace method.\n",
      "The behavior will change in pandas 3.0. This inplace method will never work because the intermediate object on which we are setting values always behaves as a copy.\n",
      "\n",
      "For example, when doing 'df[col].method(value, inplace=True)', try using 'df.method({col: value}, inplace=True)' or df[col] = df[col].method(value) instead, to perform the operation inplace on the original object.\n",
      "\n",
      "\n",
      "  df[\"Age\"].fillna(df[\"Age\"].mean(), inplace=True)\n"
     ]
    },
    {
     "data": {
      "text/plain": [
       "Customer_ID                  0\n",
       "Name                         0\n",
       "Age                          0\n",
       "Gender                       0\n",
       "Education_Level              0\n",
       "Number_of_Children          71\n",
       "City                        44\n",
       "Purchase_Amount             29\n",
       "Purchase_Date               81\n",
       "Product_Category             0\n",
       "Purchase_Frequency           0\n",
       "Total_Spent                  0\n",
       "Preferred_Payment_Method     0\n",
       "dtype: int64"
      ]
     },
     "execution_count": 172,
     "metadata": {},
     "output_type": "execute_result"
    }
   ],
   "source": [
    "df[\"Age\"].fillna(df[\"Age\"].mean(), inplace=True)\n",
    "# confirming missing values have been replaced in Age column with mean of age\n",
    "missing_values = df.isnull().sum()\n",
    "missing_values\n"
   ]
  },
  {
   "cell_type": "markdown",
   "id": "e2814752-79cb-4d41-a1fd-8d554f624002",
   "metadata": {},
   "source": [
    "### Fill missing values in the Number_of_Children column with 0"
   ]
  },
  {
   "cell_type": "code",
   "execution_count": 174,
   "id": "4b71a0d7-b6f5-466f-bfa3-6d2b24108b7d",
   "metadata": {},
   "outputs": [
    {
     "name": "stderr",
     "output_type": "stream",
     "text": [
      "C:\\Users\\USER\\AppData\\Local\\Temp\\ipykernel_2172\\2921015594.py:1: FutureWarning: A value is trying to be set on a copy of a DataFrame or Series through chained assignment using an inplace method.\n",
      "The behavior will change in pandas 3.0. This inplace method will never work because the intermediate object on which we are setting values always behaves as a copy.\n",
      "\n",
      "For example, when doing 'df[col].method(value, inplace=True)', try using 'df.method({col: value}, inplace=True)' or df[col] = df[col].method(value) instead, to perform the operation inplace on the original object.\n",
      "\n",
      "\n",
      "  df[\"Number_of_Children\"].fillna(0, inplace=True)\n"
     ]
    },
    {
     "data": {
      "text/plain": [
       "Customer_ID                  0\n",
       "Name                         0\n",
       "Age                          0\n",
       "Gender                       0\n",
       "Education_Level              0\n",
       "Number_of_Children           0\n",
       "City                        44\n",
       "Purchase_Amount             29\n",
       "Purchase_Date               81\n",
       "Product_Category             0\n",
       "Purchase_Frequency           0\n",
       "Total_Spent                  0\n",
       "Preferred_Payment_Method     0\n",
       "dtype: int64"
      ]
     },
     "execution_count": 174,
     "metadata": {},
     "output_type": "execute_result"
    }
   ],
   "source": [
    "df[\"Number_of_Children\"].fillna(0, inplace=True)  \n",
    "\n",
    "# confirming missing values have been replaced in Number_of_Children column with 0\n",
    "missing_values = df.isnull().sum()\n",
    "missing_values"
   ]
  },
  {
   "cell_type": "markdown",
   "id": "40367dd1-332e-4d6c-a61d-deb1ff9535d6",
   "metadata": {},
   "source": [
    "### Fill missing values in the City column with \"Unknown\"."
   ]
  },
  {
   "cell_type": "code",
   "execution_count": 177,
   "id": "8a0a4b5e-4092-4b83-8f74-0d1d3dd44251",
   "metadata": {},
   "outputs": [
    {
     "name": "stderr",
     "output_type": "stream",
     "text": [
      "C:\\Users\\USER\\AppData\\Local\\Temp\\ipykernel_2172\\1645834736.py:1: FutureWarning: A value is trying to be set on a copy of a DataFrame or Series through chained assignment using an inplace method.\n",
      "The behavior will change in pandas 3.0. This inplace method will never work because the intermediate object on which we are setting values always behaves as a copy.\n",
      "\n",
      "For example, when doing 'df[col].method(value, inplace=True)', try using 'df.method({col: value}, inplace=True)' or df[col] = df[col].method(value) instead, to perform the operation inplace on the original object.\n",
      "\n",
      "\n",
      "  df[\"City\"].fillna(\"Unknown\", inplace=True)\n"
     ]
    },
    {
     "data": {
      "text/plain": [
       "Customer_ID                  0\n",
       "Name                         0\n",
       "Age                          0\n",
       "Gender                       0\n",
       "Education_Level              0\n",
       "Number_of_Children           0\n",
       "City                         0\n",
       "Purchase_Amount             29\n",
       "Purchase_Date               81\n",
       "Product_Category             0\n",
       "Purchase_Frequency           0\n",
       "Total_Spent                  0\n",
       "Preferred_Payment_Method     0\n",
       "dtype: int64"
      ]
     },
     "execution_count": 177,
     "metadata": {},
     "output_type": "execute_result"
    }
   ],
   "source": [
    "df[\"City\"].fillna(\"Unknown\", inplace=True)\n",
    "# confirming missing values have been replaced in City column with 0\n",
    "missing_values = df.isnull().sum()\n",
    "missing_values"
   ]
  },
  {
   "cell_type": "markdown",
   "id": "85864d38-7229-419d-a1f4-4fb5259c00eb",
   "metadata": {},
   "source": [
    "### If Purchase_Date is missing, replace it with \"2023-01-01\""
   ]
  },
  {
   "cell_type": "code",
   "execution_count": 180,
   "id": "8c2edbbc-98c3-4547-b530-31e46dd666b6",
   "metadata": {},
   "outputs": [
    {
     "name": "stderr",
     "output_type": "stream",
     "text": [
      "C:\\Users\\USER\\AppData\\Local\\Temp\\ipykernel_2172\\486610060.py:1: FutureWarning: A value is trying to be set on a copy of a DataFrame or Series through chained assignment using an inplace method.\n",
      "The behavior will change in pandas 3.0. This inplace method will never work because the intermediate object on which we are setting values always behaves as a copy.\n",
      "\n",
      "For example, when doing 'df[col].method(value, inplace=True)', try using 'df.method({col: value}, inplace=True)' or df[col] = df[col].method(value) instead, to perform the operation inplace on the original object.\n",
      "\n",
      "\n",
      "  df[\"Purchase_Date\"].fillna(\"2023-01-01\", inplace=True)\n"
     ]
    },
    {
     "data": {
      "text/plain": [
       "Customer_ID                  0\n",
       "Name                         0\n",
       "Age                          0\n",
       "Gender                       0\n",
       "Education_Level              0\n",
       "Number_of_Children           0\n",
       "City                         0\n",
       "Purchase_Amount             29\n",
       "Purchase_Date                0\n",
       "Product_Category             0\n",
       "Purchase_Frequency           0\n",
       "Total_Spent                  0\n",
       "Preferred_Payment_Method     0\n",
       "dtype: int64"
      ]
     },
     "execution_count": 180,
     "metadata": {},
     "output_type": "execute_result"
    }
   ],
   "source": [
    "df[\"Purchase_Date\"].fillna(\"2023-01-01\", inplace=True)\n",
    "\n",
    "# confirming missing values have been replaced in Purchase_Date column with 2023-01-01\n",
    "missing_values = df.isnull().sum()\n",
    "missing_values"
   ]
  },
  {
   "cell_type": "markdown",
   "id": "cc34afe0-650f-46b1-8b53-446825b90d56",
   "metadata": {},
   "source": [
    "### If Purchase_Amount is missing, set it to 0."
   ]
  },
  {
   "cell_type": "code",
   "execution_count": 183,
   "id": "a2ed381d-2011-4d53-a854-386d89433971",
   "metadata": {},
   "outputs": [
    {
     "name": "stderr",
     "output_type": "stream",
     "text": [
      "C:\\Users\\USER\\AppData\\Local\\Temp\\ipykernel_2172\\3213597189.py:1: FutureWarning: A value is trying to be set on a copy of a DataFrame or Series through chained assignment using an inplace method.\n",
      "The behavior will change in pandas 3.0. This inplace method will never work because the intermediate object on which we are setting values always behaves as a copy.\n",
      "\n",
      "For example, when doing 'df[col].method(value, inplace=True)', try using 'df.method({col: value}, inplace=True)' or df[col] = df[col].method(value) instead, to perform the operation inplace on the original object.\n",
      "\n",
      "\n",
      "  df[\"Purchase_Amount\"].fillna(0, inplace=True)\n"
     ]
    },
    {
     "data": {
      "text/plain": [
       "Customer_ID                 0\n",
       "Name                        0\n",
       "Age                         0\n",
       "Gender                      0\n",
       "Education_Level             0\n",
       "Number_of_Children          0\n",
       "City                        0\n",
       "Purchase_Amount             0\n",
       "Purchase_Date               0\n",
       "Product_Category            0\n",
       "Purchase_Frequency          0\n",
       "Total_Spent                 0\n",
       "Preferred_Payment_Method    0\n",
       "dtype: int64"
      ]
     },
     "execution_count": 183,
     "metadata": {},
     "output_type": "execute_result"
    }
   ],
   "source": [
    "df[\"Purchase_Amount\"].fillna(0, inplace=True)\n",
    "\n",
    "# confirming missing values have been replaced in Purchase_Amount column with 0\n",
    "missing_values = df.isnull().sum()\n",
    "missing_values"
   ]
  },
  {
   "cell_type": "markdown",
   "id": "340c5e06-5110-4be8-99ad-b790cc3a91ed",
   "metadata": {},
   "source": [
    "## Identify and Correct Invalid Data"
   ]
  },
  {
   "cell_type": "markdown",
   "id": "2de233da-858a-4e61-af36-5818bfbb2feb",
   "metadata": {},
   "source": [
    "### Some Purchase_Amount values are negative. Set all negative values to 0."
   ]
  },
  {
   "cell_type": "code",
   "execution_count": 187,
   "id": "8f400ac8-8724-4433-83e0-1ae0a5e218ca",
   "metadata": {},
   "outputs": [
    {
     "name": "stdout",
     "output_type": "stream",
     "text": [
      "Negative values found:\n",
      "       Customer_ID     Name   Age  Gender      Education_Level  \\\n",
      "5            1006  Unknown  33.0  Female             Bachelor   \n",
      "6            1007    David  23.0    Male  No formal education   \n",
      "53           1054  Charlie  41.0    Male                  PhD   \n",
      "59           1060      Bob  64.0    Male            Secondary   \n",
      "64           1065      Eve  58.0    Male            Secondary   \n",
      "...           ...      ...   ...     ...                  ...   \n",
      "1389         2390    David  73.0  Female            Secondary   \n",
      "1422         2423    Frank  31.0    Male            Secondary   \n",
      "1432         2433  Unknown  52.0  Female               Master   \n",
      "1475         2476      Eve  20.0  Female             Bachelor   \n",
      "1478         2479    Alice  20.0  Female              Primary   \n",
      "\n",
      "      Number_of_Children      City  Purchase_Amount Purchase_Date  \\\n",
      "5                    1.0    Nakuru           -48.18    2023-09-09   \n",
      "6                    0.0   Nairobi           -36.79    2023-12-18   \n",
      "53                   0.0  Machakos           -20.64    2023-12-06   \n",
      "59                   6.0   Malindi            -3.04    2023-06-22   \n",
      "64                   5.0   Garissa            -2.50    2023-09-17   \n",
      "...                  ...       ...              ...           ...   \n",
      "1389                 1.0   Mombasa           -27.66    2023-07-09   \n",
      "1422                 2.0     Nyeri           -34.32    2023-09-11   \n",
      "1432                 5.0   Eldoret            -7.41    2023-05-13   \n",
      "1475                 0.0  Machakos           -38.83    2023-01-01   \n",
      "1478                 3.0  Machakos           -49.51    2023-06-26   \n",
      "\n",
      "     Product_Category  Purchase_Frequency  Total_Spent  \\\n",
      "5           Groceries                   5      3641.65   \n",
      "6         Electronics                   6      2577.76   \n",
      "53               Toys                  10      4497.56   \n",
      "59             Sports                   7      3506.20   \n",
      "64        Electronics                   1       894.79   \n",
      "...               ...                 ...          ...   \n",
      "1389           Sports                   2       116.90   \n",
      "1422            Books                   8      4043.77   \n",
      "1432       Automotive                   7      2911.02   \n",
      "1475             Toys                   2      4560.12   \n",
      "1478           Beauty                   2      4670.65   \n",
      "\n",
      "     Preferred_Payment_Method  \n",
      "5               Bank Transfer  \n",
      "6               Bank Transfer  \n",
      "53                       Cash  \n",
      "59                       Cash  \n",
      "64                       Cash  \n",
      "...                       ...  \n",
      "1389             Mobile Money  \n",
      "1422              Credit Card  \n",
      "1432             Mobile Money  \n",
      "1475                     Cash  \n",
      "1478              Credit Card  \n",
      "\n",
      "[78 rows x 13 columns]\n"
     ]
    }
   ],
   "source": [
    "# identifying rows where Some Purchase_Amount values are negative\n",
    "negative_values = df[df['Purchase_Amount'] < 0]\n",
    "if not negative_values.empty:\n",
    "    print(\"Negative values found:\\n\", negative_values)\n"
   ]
  },
  {
   "cell_type": "code",
   "execution_count": 189,
   "id": "07bc96e3-2bb8-41df-955f-7fd5784637cc",
   "metadata": {},
   "outputs": [
    {
     "name": "stdout",
     "output_type": "stream",
     "text": [
      "0\n"
     ]
    }
   ],
   "source": [
    "# replacing with 0\n",
    "replace=df.loc[df['Purchase_Amount'] < 0, 'Purchase_Amount'] = 0\n",
    "print(replace)"
   ]
  },
  {
   "cell_type": "code",
   "execution_count": 211,
   "id": "e2b2c9eb-a8dc-4b4a-8b45-6c840eadb675",
   "metadata": {},
   "outputs": [
    {
     "data": {
      "text/html": [
       "<div>\n",
       "<style scoped>\n",
       "    .dataframe tbody tr th:only-of-type {\n",
       "        vertical-align: middle;\n",
       "    }\n",
       "\n",
       "    .dataframe tbody tr th {\n",
       "        vertical-align: top;\n",
       "    }\n",
       "\n",
       "    .dataframe thead th {\n",
       "        text-align: right;\n",
       "    }\n",
       "</style>\n",
       "<table border=\"1\" class=\"dataframe\">\n",
       "  <thead>\n",
       "    <tr style=\"text-align: right;\">\n",
       "      <th></th>\n",
       "      <th>Customer_ID</th>\n",
       "      <th>Name</th>\n",
       "      <th>Age</th>\n",
       "      <th>Gender</th>\n",
       "      <th>Education_Level</th>\n",
       "      <th>Number_of_Children</th>\n",
       "      <th>City</th>\n",
       "      <th>Purchase_Amount</th>\n",
       "      <th>Purchase_Date</th>\n",
       "      <th>Product_Category</th>\n",
       "      <th>Purchase_Frequency</th>\n",
       "      <th>Total_Spent</th>\n",
       "      <th>Preferred_Payment_Method</th>\n",
       "    </tr>\n",
       "  </thead>\n",
       "  <tbody>\n",
       "  </tbody>\n",
       "</table>\n",
       "</div>"
      ],
      "text/plain": [
       "Empty DataFrame\n",
       "Columns: [Customer_ID, Name, Age, Gender, Education_Level, Number_of_Children, City, Purchase_Amount, Purchase_Date, Product_Category, Purchase_Frequency, Total_Spent, Preferred_Payment_Method]\n",
       "Index: []"
      ]
     },
     "execution_count": 211,
     "metadata": {},
     "output_type": "execute_result"
    }
   ],
   "source": [
    "#confirming values in Purchase_Amount  \n",
    "p_confirmation=df[df[\"Purchase_Amount\"]<0]\n",
    "p_confirmation"
   ]
  },
  {
   "cell_type": "markdown",
   "id": "39c73cc3-95fb-42bb-b726-1992410660cf",
   "metadata": {},
   "source": [
    "### Verify if there are any customers with age below 18 or above 80. If so, replace them with the median age."
   ]
  },
  {
   "cell_type": "code",
   "execution_count": 203,
   "id": "4c491afd-7f87-42dd-9b08-7d33b15cf30b",
   "metadata": {},
   "outputs": [
    {
     "data": {
      "text/html": [
       "<div>\n",
       "<style scoped>\n",
       "    .dataframe tbody tr th:only-of-type {\n",
       "        vertical-align: middle;\n",
       "    }\n",
       "\n",
       "    .dataframe tbody tr th {\n",
       "        vertical-align: top;\n",
       "    }\n",
       "\n",
       "    .dataframe thead th {\n",
       "        text-align: right;\n",
       "    }\n",
       "</style>\n",
       "<table border=\"1\" class=\"dataframe\">\n",
       "  <thead>\n",
       "    <tr style=\"text-align: right;\">\n",
       "      <th></th>\n",
       "      <th>Customer_ID</th>\n",
       "      <th>Name</th>\n",
       "      <th>Age</th>\n",
       "      <th>Gender</th>\n",
       "      <th>Education_Level</th>\n",
       "      <th>Number_of_Children</th>\n",
       "      <th>City</th>\n",
       "      <th>Purchase_Amount</th>\n",
       "      <th>Purchase_Date</th>\n",
       "      <th>Product_Category</th>\n",
       "      <th>Purchase_Frequency</th>\n",
       "      <th>Total_Spent</th>\n",
       "      <th>Preferred_Payment_Method</th>\n",
       "    </tr>\n",
       "  </thead>\n",
       "  <tbody>\n",
       "  </tbody>\n",
       "</table>\n",
       "</div>"
      ],
      "text/plain": [
       "Empty DataFrame\n",
       "Columns: [Customer_ID, Name, Age, Gender, Education_Level, Number_of_Children, City, Purchase_Amount, Purchase_Date, Product_Category, Purchase_Frequency, Total_Spent, Preferred_Payment_Method]\n",
       "Index: []"
      ]
     },
     "execution_count": 203,
     "metadata": {},
     "output_type": "execute_result"
    }
   ],
   "source": [
    "age_range = df[(df['Age'] < 18) | (df['Age'] > 80)]\n",
    "age_range\n",
    "# there are no customers below age 18 and above age 80"
   ]
  },
  {
   "cell_type": "markdown",
   "id": "ba02a639-e455-4285-afaf-87747d0ef3e6",
   "metadata": {},
   "source": [
    "### Ensure that Purchase_Frequency is between 1 and 10. If outside this range, replace it with 5 (average frequency)."
   ]
  },
  {
   "cell_type": "code",
   "execution_count": 209,
   "id": "981006c1-278a-487c-acb5-02083eddd1bc",
   "metadata": {},
   "outputs": [
    {
     "data": {
      "text/html": [
       "<div>\n",
       "<style scoped>\n",
       "    .dataframe tbody tr th:only-of-type {\n",
       "        vertical-align: middle;\n",
       "    }\n",
       "\n",
       "    .dataframe tbody tr th {\n",
       "        vertical-align: top;\n",
       "    }\n",
       "\n",
       "    .dataframe thead th {\n",
       "        text-align: right;\n",
       "    }\n",
       "</style>\n",
       "<table border=\"1\" class=\"dataframe\">\n",
       "  <thead>\n",
       "    <tr style=\"text-align: right;\">\n",
       "      <th></th>\n",
       "      <th>Customer_ID</th>\n",
       "      <th>Name</th>\n",
       "      <th>Age</th>\n",
       "      <th>Gender</th>\n",
       "      <th>Education_Level</th>\n",
       "      <th>Number_of_Children</th>\n",
       "      <th>City</th>\n",
       "      <th>Purchase_Amount</th>\n",
       "      <th>Purchase_Date</th>\n",
       "      <th>Product_Category</th>\n",
       "      <th>Purchase_Frequency</th>\n",
       "      <th>Total_Spent</th>\n",
       "      <th>Preferred_Payment_Method</th>\n",
       "    </tr>\n",
       "  </thead>\n",
       "  <tbody>\n",
       "    <tr>\n",
       "      <th>0</th>\n",
       "      <td>1001</td>\n",
       "      <td>Alice</td>\n",
       "      <td>43.0</td>\n",
       "      <td>Male</td>\n",
       "      <td>Secondary</td>\n",
       "      <td>5.0</td>\n",
       "      <td>Mombasa</td>\n",
       "      <td>629.59</td>\n",
       "      <td>2023-10-29</td>\n",
       "      <td>Automotive</td>\n",
       "      <td>9</td>\n",
       "      <td>2981.75</td>\n",
       "      <td>Bank Transfer</td>\n",
       "    </tr>\n",
       "    <tr>\n",
       "      <th>1</th>\n",
       "      <td>1002</td>\n",
       "      <td>David</td>\n",
       "      <td>66.0</td>\n",
       "      <td>Male</td>\n",
       "      <td>Diploma</td>\n",
       "      <td>5.0</td>\n",
       "      <td>Mombasa</td>\n",
       "      <td>424.31</td>\n",
       "      <td>2023-04-04</td>\n",
       "      <td>Clothing</td>\n",
       "      <td>2</td>\n",
       "      <td>1397.40</td>\n",
       "      <td>Credit Card</td>\n",
       "    </tr>\n",
       "    <tr>\n",
       "      <th>2</th>\n",
       "      <td>1003</td>\n",
       "      <td>Bob</td>\n",
       "      <td>61.0</td>\n",
       "      <td>Male</td>\n",
       "      <td>Diploma</td>\n",
       "      <td>3.0</td>\n",
       "      <td>Eldoret</td>\n",
       "      <td>220.66</td>\n",
       "      <td>2023-04-10</td>\n",
       "      <td>Furniture</td>\n",
       "      <td>9</td>\n",
       "      <td>3769.70</td>\n",
       "      <td>Mobile Money</td>\n",
       "    </tr>\n",
       "    <tr>\n",
       "      <th>3</th>\n",
       "      <td>1004</td>\n",
       "      <td>Ian</td>\n",
       "      <td>37.0</td>\n",
       "      <td>Male</td>\n",
       "      <td>Secondary</td>\n",
       "      <td>0.0</td>\n",
       "      <td>Nyeri</td>\n",
       "      <td>13.95</td>\n",
       "      <td>2023-08-03</td>\n",
       "      <td>Beauty</td>\n",
       "      <td>2</td>\n",
       "      <td>2973.28</td>\n",
       "      <td>Mobile Money</td>\n",
       "    </tr>\n",
       "    <tr>\n",
       "      <th>5</th>\n",
       "      <td>1006</td>\n",
       "      <td>Unknown</td>\n",
       "      <td>33.0</td>\n",
       "      <td>Female</td>\n",
       "      <td>Bachelor</td>\n",
       "      <td>1.0</td>\n",
       "      <td>Nakuru</td>\n",
       "      <td>0.00</td>\n",
       "      <td>2023-09-09</td>\n",
       "      <td>Groceries</td>\n",
       "      <td>5</td>\n",
       "      <td>3641.65</td>\n",
       "      <td>Bank Transfer</td>\n",
       "    </tr>\n",
       "    <tr>\n",
       "      <th>...</th>\n",
       "      <td>...</td>\n",
       "      <td>...</td>\n",
       "      <td>...</td>\n",
       "      <td>...</td>\n",
       "      <td>...</td>\n",
       "      <td>...</td>\n",
       "      <td>...</td>\n",
       "      <td>...</td>\n",
       "      <td>...</td>\n",
       "      <td>...</td>\n",
       "      <td>...</td>\n",
       "      <td>...</td>\n",
       "      <td>...</td>\n",
       "    </tr>\n",
       "    <tr>\n",
       "      <th>1495</th>\n",
       "      <td>2496</td>\n",
       "      <td>Ian</td>\n",
       "      <td>55.0</td>\n",
       "      <td>Male</td>\n",
       "      <td>Master</td>\n",
       "      <td>1.0</td>\n",
       "      <td>Thika</td>\n",
       "      <td>436.37</td>\n",
       "      <td>2023-02-16</td>\n",
       "      <td>Beauty</td>\n",
       "      <td>3</td>\n",
       "      <td>4652.81</td>\n",
       "      <td>Bank Transfer</td>\n",
       "    </tr>\n",
       "    <tr>\n",
       "      <th>1496</th>\n",
       "      <td>2497</td>\n",
       "      <td>Eve</td>\n",
       "      <td>75.0</td>\n",
       "      <td>Male</td>\n",
       "      <td>Master</td>\n",
       "      <td>0.0</td>\n",
       "      <td>Malindi</td>\n",
       "      <td>650.64</td>\n",
       "      <td>2023-10-10</td>\n",
       "      <td>Electronics</td>\n",
       "      <td>9</td>\n",
       "      <td>891.92</td>\n",
       "      <td>Cash</td>\n",
       "    </tr>\n",
       "    <tr>\n",
       "      <th>1497</th>\n",
       "      <td>2498</td>\n",
       "      <td>Bob</td>\n",
       "      <td>47.0</td>\n",
       "      <td>Male</td>\n",
       "      <td>Secondary</td>\n",
       "      <td>2.0</td>\n",
       "      <td>Garissa</td>\n",
       "      <td>145.98</td>\n",
       "      <td>2023-01-24</td>\n",
       "      <td>Electronics</td>\n",
       "      <td>5</td>\n",
       "      <td>2048.69</td>\n",
       "      <td>Bank Transfer</td>\n",
       "    </tr>\n",
       "    <tr>\n",
       "      <th>1498</th>\n",
       "      <td>2499</td>\n",
       "      <td>David</td>\n",
       "      <td>38.0</td>\n",
       "      <td>Male</td>\n",
       "      <td>Primary</td>\n",
       "      <td>0.0</td>\n",
       "      <td>Nakuru</td>\n",
       "      <td>0.00</td>\n",
       "      <td>2023-07-19</td>\n",
       "      <td>Automotive</td>\n",
       "      <td>6</td>\n",
       "      <td>2359.37</td>\n",
       "      <td>Cash</td>\n",
       "    </tr>\n",
       "    <tr>\n",
       "      <th>1499</th>\n",
       "      <td>2500</td>\n",
       "      <td>Charlie</td>\n",
       "      <td>76.0</td>\n",
       "      <td>Male</td>\n",
       "      <td>No formal education</td>\n",
       "      <td>3.0</td>\n",
       "      <td>Eldoret</td>\n",
       "      <td>46.88</td>\n",
       "      <td>2023-03-03</td>\n",
       "      <td>Toys</td>\n",
       "      <td>4</td>\n",
       "      <td>2569.68</td>\n",
       "      <td>Mobile Money</td>\n",
       "    </tr>\n",
       "  </tbody>\n",
       "</table>\n",
       "<p>1325 rows × 13 columns</p>\n",
       "</div>"
      ],
      "text/plain": [
       "      Customer_ID     Name   Age  Gender      Education_Level  \\\n",
       "0            1001    Alice  43.0    Male            Secondary   \n",
       "1            1002    David  66.0    Male              Diploma   \n",
       "2            1003      Bob  61.0    Male              Diploma   \n",
       "3            1004      Ian  37.0    Male            Secondary   \n",
       "5            1006  Unknown  33.0  Female             Bachelor   \n",
       "...           ...      ...   ...     ...                  ...   \n",
       "1495         2496      Ian  55.0    Male               Master   \n",
       "1496         2497      Eve  75.0    Male               Master   \n",
       "1497         2498      Bob  47.0    Male            Secondary   \n",
       "1498         2499    David  38.0    Male              Primary   \n",
       "1499         2500  Charlie  76.0    Male  No formal education   \n",
       "\n",
       "      Number_of_Children     City  Purchase_Amount Purchase_Date  \\\n",
       "0                    5.0  Mombasa           629.59    2023-10-29   \n",
       "1                    5.0  Mombasa           424.31    2023-04-04   \n",
       "2                    3.0  Eldoret           220.66    2023-04-10   \n",
       "3                    0.0    Nyeri            13.95    2023-08-03   \n",
       "5                    1.0   Nakuru             0.00    2023-09-09   \n",
       "...                  ...      ...              ...           ...   \n",
       "1495                 1.0    Thika           436.37    2023-02-16   \n",
       "1496                 0.0  Malindi           650.64    2023-10-10   \n",
       "1497                 2.0  Garissa           145.98    2023-01-24   \n",
       "1498                 0.0   Nakuru             0.00    2023-07-19   \n",
       "1499                 3.0  Eldoret            46.88    2023-03-03   \n",
       "\n",
       "     Product_Category  Purchase_Frequency  Total_Spent  \\\n",
       "0          Automotive                   9      2981.75   \n",
       "1            Clothing                   2      1397.40   \n",
       "2           Furniture                   9      3769.70   \n",
       "3              Beauty                   2      2973.28   \n",
       "5           Groceries                   5      3641.65   \n",
       "...               ...                 ...          ...   \n",
       "1495           Beauty                   3      4652.81   \n",
       "1496      Electronics                   9       891.92   \n",
       "1497      Electronics                   5      2048.69   \n",
       "1498       Automotive                   6      2359.37   \n",
       "1499             Toys                   4      2569.68   \n",
       "\n",
       "     Preferred_Payment_Method  \n",
       "0               Bank Transfer  \n",
       "1                 Credit Card  \n",
       "2                Mobile Money  \n",
       "3                Mobile Money  \n",
       "5               Bank Transfer  \n",
       "...                       ...  \n",
       "1495            Bank Transfer  \n",
       "1496                     Cash  \n",
       "1497            Bank Transfer  \n",
       "1498                     Cash  \n",
       "1499             Mobile Money  \n",
       "\n",
       "[1325 rows x 13 columns]"
      ]
     },
     "execution_count": 209,
     "metadata": {},
     "output_type": "execute_result"
    }
   ],
   "source": [
    "frequncy_range = df[(df['Purchase_Frequency'] > 1) | (df['Purchase_Frequency'] > 10)]\n",
    "frequncy_range"
   ]
  },
  {
   "cell_type": "code",
   "execution_count": null,
   "id": "a953c081-705a-47b7-8efc-1027fb3656e0",
   "metadata": {},
   "outputs": [],
   "source": []
  }
 ],
 "metadata": {
  "kernelspec": {
   "display_name": "Python 3 (ipykernel)",
   "language": "python",
   "name": "python3"
  },
  "language_info": {
   "codemirror_mode": {
    "name": "ipython",
    "version": 3
   },
   "file_extension": ".py",
   "mimetype": "text/x-python",
   "name": "python",
   "nbconvert_exporter": "python",
   "pygments_lexer": "ipython3",
   "version": "3.12.7"
  }
 },
 "nbformat": 4,
 "nbformat_minor": 5
}
